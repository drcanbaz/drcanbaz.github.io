{
 "cells": [
  {
   "cell_type": "markdown",
   "id": "0ccf6832",
   "metadata": {
    "slideshow": {
     "slide_type": "slide"
    }
   },
   "source": [
    "<body>\n",
    "    <h1>Welcome to CINF 135 - Concepts of Artificial Intelligence</h1>\n",
    "    <p>\n",
    "        <b>M. Abdullah Canbaz, Ph.D. </b>, <br>\n",
    "        Department of Information Sciences and Technology,<br>\n",
    "        College of Emergency Preparedness, Homeland Security, and Cybersecurity,<br>\n",
    "        <i>drcanbaz.com</i>\n",
    "    </p>"
   ]
  },
  {
   "cell_type": "markdown",
   "id": "32ae39df",
   "metadata": {
    "slideshow": {
     "slide_type": "slide"
    }
   },
   "source": [
    "<b>First things first: Attendance</b>\n",
    "<p>You will find the Attendance Sheet on your Brightspace Content Page. Please follow the link and enter the passphrase of the day!</p>\n",
    "\n",
    "<p> Link: <a href=\"https://docs.google.com/forms/d/e/1FAIpQLSe1D0xzHe-GpYGRN6lmnieeWGCn7qWCA5wXnrE8CPXH8RSIcw/viewform?usp=send_form\">Attendance Sheet</a>\n",
    "</p>\n"
   ]
  },
  {
   "cell_type": "markdown",
   "id": "ce348150",
   "metadata": {
    "slideshow": {
     "slide_type": "slide"
    }
   },
   "source": [
    "<h3> To-Do!</h3>\n",
    "\n",
    "<p>Please read the sections:\n",
    "    <ol> \n",
    "    <li>Chapter 5 </li>\n",
    "    </ol>\n",
    "</p>"
   ]
  },
  {
   "cell_type": "markdown",
   "id": "8f3174b6",
   "metadata": {
    "slideshow": {
     "slide_type": "slide"
    }
   },
   "source": [
    "<h2>Chapter Five: Robotic Process Automation</h2>\n"
   ]
  },
  {
   "cell_type": "markdown",
   "id": "5f4634e2",
   "metadata": {
    "slideshow": {
     "slide_type": "fragment"
    }
   },
   "source": [
    "Today’s most successful companies generally operate\n",
    "with fewer employees than those of the past. Consider\n",
    "that Kodak at its peak in 1973 employed 120,000, but\n",
    "when Facebook bought Instagram in 2012, the photosharing\n",
    "site employed only 13 workers. In 2019, we\n",
    "predict that one in 10 startups—operating in a more\n",
    "agile, lean, and scalable fashion— will look at the\n",
    "world through the lens of tasks, not jobs, and will\n",
    "build business models around automation-first\n",
    "principles."
   ]
  },
  {
   "cell_type": "markdown",
   "id": "a28c6cbd",
   "metadata": {
    "slideshow": {
     "slide_type": "slide"
    }
   },
   "source": [
    "<h3> RPAs</h3>\n",
    "<a href=\"https://youtu.be/eokpzpcap-E\"> What is RPA and how does it work? </a>\n",
    "\n",
    "<p> To summarize, RPA are softwares that can be easily programmed to do basic tasks across applications just as human workers do. RPA software is designed to reduce the burden of repetitive, simple tasks on employees.\n",
    "</p>"
   ]
  },
  {
   "cell_type": "markdown",
   "id": "7c41b49d",
   "metadata": {
    "slideshow": {
     "slide_type": "slide"
    }
   },
   "source": [
    "<h3> RPAs</h3>\n",
    "<p>How RPA & Machine Learning programs approach the problems differently is illustrated here:</p>\n",
    "<div>\n",
    "<img src=\"rpavsml.png\" width=\"700\" />\n",
    "</div>"
   ]
  },
  {
   "cell_type": "markdown",
   "id": "b1ce1341",
   "metadata": {
    "slideshow": {
     "slide_type": "slide"
    }
   },
   "source": [
    "<h3> RPAs</h3> \n",
    "<p>RPA can be considered as “rules-based” software robots that need to get manual instructions from developers while machine learning programs can “learn to become smarter” versions of themselves.</p>"
   ]
  },
  {
   "cell_type": "markdown",
   "id": "d009f955",
   "metadata": {
    "slideshow": {
     "slide_type": "slide"
    }
   },
   "source": [
    "<div>\n",
    "<img src=\"pdriven.png\" width=\"700\" />\n",
    "</div>\n",
    "<p>From process-driven to data-driven. By CFB Bots on <a href=\"https://medium.com/@cfb_bots/the-difference-between-robotic-process-automation-and-artificial-intelligence-4a71b4834788\">“The Difference between Robotic Process Automation and Artificial Intelligence”</a></p>"
   ]
  },
  {
   "cell_type": "markdown",
   "id": "13979a32",
   "metadata": {
    "slideshow": {
     "slide_type": "slide"
    }
   },
   "source": [
    "<h3>Dilemma</h3>\n",
    "<p>The definitions of “Machine Learning” (ML) & “Artificial Intelligence” (AI) from the chart are misleading. Most of us in the industry would agree on a more “cleared” version. In short, RPA should be already classified as AI — or a “low-level AI” to be specific. Thus the linear relationship in previous figure is not correct.\n",
    "</p>"
   ]
  },
  {
   "cell_type": "markdown",
   "id": "c96e2a96",
   "metadata": {
    "slideshow": {
     "slide_type": "slide"
    }
   },
   "source": [
    "<div>\n",
    "<img src=\"ai-ml-rpa.webp\" width=\"500\" />\n",
    "</div>\n",
    "<p>How deep learning is a subset of machine learning and how machine learning is a subset of artificial intelligence (AI). Photo by Avimanyu786 / CC BY-SA</p>"
   ]
  },
  {
   "cell_type": "markdown",
   "id": "5de08a72",
   "metadata": {
    "slideshow": {
     "slide_type": "slide"
    }
   },
   "source": [
    "### “Smart modules” come with a price tag: they are usually “blackboxes” and cost a lot!'"
   ]
  },
  {
   "cell_type": "markdown",
   "id": "30422b85",
   "metadata": {
    "slideshow": {
     "slide_type": "slide"
    }
   },
   "source": [
    "### RPA developers are not hired to build machine learning codes (or at least…not yet)"
   ]
  },
  {
   "cell_type": "markdown",
   "id": "9609fe1b",
   "metadata": {
    "slideshow": {
     "slide_type": "slide"
    }
   },
   "source": [
    "<div>\n",
    "<img src=\"RPA-DSmap.png\" width=\"700\" />\n",
    "</div>\n",
    "<p>RPA & Data Science adoption map</p>"
   ]
  },
  {
   "cell_type": "markdown",
   "id": "4cd09132",
   "metadata": {
    "slideshow": {
     "slide_type": "slide"
    }
   },
   "source": [
    "<h3>Design pillars in the 4.0 era</h3>\n",
    "<p>So how can we ensure the collaboration within the 2 departments as well as between themselves and the clients? The infographic below illustrates the 4 pillars of design in this industrialization 4.0 era. Following these pillars not only can help the 2 departments RPA & Data Science to speak the common language but also present their projects constructively to the business clients.</p>"
   ]
  },
  {
   "cell_type": "markdown",
   "id": "c4490abe",
   "metadata": {
    "slideshow": {
     "slide_type": "slide"
    }
   },
   "source": [
    "<h3>Design pillars in the 4.0 era</h3>\n",
    "<div>\n",
    "<img src=\"pillars1.png\" width=\"600\" />\n",
    "</div>"
   ]
  },
  {
   "cell_type": "markdown",
   "id": "c4df2cb8",
   "metadata": {
    "slideshow": {
     "slide_type": "slide"
    }
   },
   "source": [
    "<h3>Design pillars in the 4.0 era</h3>\n",
    "<div>\n",
    "<img src=\"pillars2.png\" width=\"600\" />\n",
    "</div>"
   ]
  },
  {
   "cell_type": "markdown",
   "id": "21cc24c6",
   "metadata": {
    "slideshow": {
     "slide_type": "slide"
    }
   },
   "source": [
    "## Use Cases: 1 - Forcasting Reports Every Week\n",
    "\n",
    "In this hypothetical use case, the business client wants to have all <b>sales forecast reports</b> send to them <b>every week</b>. The inputs contain historical data, communication material (press release, financial statements…etc.), and in-house data (CRM).\n",
    "\n",
    "RPA department creates bots to gather data into one consolidated place → forwards the data to the finance department perform forecasting manually offline → sends forecasting results automatically to clients through emails and feed inputs into dashboards.\n",
    "\n",
    "Preparing forecasting reports manually offline by the financial department can be replaced by forecasting modules built by either the RPA department with the help of the data science team."
   ]
  },
  {
   "cell_type": "markdown",
   "id": "23e7b744",
   "metadata": {
    "slideshow": {
     "slide_type": "slide"
    }
   },
   "source": [
    "<h3>Use Cases: 1 - Forcasting Reports Every Week</h3>\n",
    "<div>\n",
    "<img src=\"weeklyforcast.webp\" width=\"600\" />\n",
    "</div>"
   ]
  },
  {
   "cell_type": "markdown",
   "id": "5dc5bf74",
   "metadata": {
    "slideshow": {
     "slide_type": "slide"
    }
   },
   "source": [
    "## Use Cases: 1 - Forcasting Reports Every Week\n",
    "\n",
    "The Data Science department can also build the data collection module themselves. However, oftentimes, they will not possess the correct access rights to all the raw data (due to sensitivity or privacy issues). The RPA team — which already has clearance from legal — can get data from program interfaces (read emails from mailboxes, download files from SAP systems… etc.) and thus, build extraction scripts with ease.\n",
    "\n",
    "When the forecast results are finalized, the RPA team can create bots to send those reports directly to clients every week. After some iterations, the real data is fed again back to the ML module to retrain the algorithm. Hence, this is a loop cycle and once it’s completed, maintenance will be minimal with optimized costs."
   ]
  },
  {
   "cell_type": "markdown",
   "id": "94f4e1d0",
   "metadata": {
    "slideshow": {
     "slide_type": "slide"
    }
   },
   "source": [
    "## Use Cases: 2 - Summarize & Report\n",
    "\n",
    "This use case extends the one above, where the business client wants to have <b>all the communication materials summarized, analyzed, and put into respective templates</b> (e.g. financial reports, newsletter, topic-specific formats…etc.) and dashboards for KPIs viewing.\n",
    "\n",
    "Here, the RPA department will take care of the inputs & outputs flow while the Data Science department builds <i>natural language processing scripts</i> to work on the requirements.\n",
    "\n",
    "After testing the solutions for <i>sentiment analysis</i> and <i>text classification</i>, the Data Science team can integrate their ML modules into the RPA workflows. The RPA team only needs to customize inputs and outputs for the modules to work properly.\n",
    "\n",
    "Finally, when the results are calculated, RPA bots can put them into templates and send out emails automatically to the respective clients. Potentially also provide them an interactive feedback link where it feeds data back to the workflow."
   ]
  },
  {
   "cell_type": "markdown",
   "id": "ddd4cf47",
   "metadata": {
    "slideshow": {
     "slide_type": "slide"
    }
   },
   "source": [
    "<h3>Use Cases: 2 - Summarize & Report</h3>\n",
    "<div>\n",
    "<img src=\"summarizedocs.webp\" width=\"600\" />\n",
    "</div>"
   ]
  },
  {
   "cell_type": "markdown",
   "id": "736fbd10",
   "metadata": {
    "slideshow": {
     "slide_type": "slide"
    }
   },
   "source": [
    "<h3> Coming up Next</h3>\n",
    "\n",
    "<ol> <li> In class (graded) Activity</li><ol>"
   ]
  }
 ],
 "metadata": {
  "celltoolbar": "Slideshow",
  "kernelspec": {
   "display_name": "Python 3 (ipykernel)",
   "language": "python",
   "name": "python3"
  },
  "language_info": {
   "codemirror_mode": {
    "name": "ipython",
    "version": 3
   },
   "file_extension": ".py",
   "mimetype": "text/x-python",
   "name": "python",
   "nbconvert_exporter": "python",
   "pygments_lexer": "ipython3",
   "version": "3.9.16"
  }
 },
 "nbformat": 4,
 "nbformat_minor": 5
}
